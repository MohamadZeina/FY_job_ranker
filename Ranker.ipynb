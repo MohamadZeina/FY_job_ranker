{
 "cells": [
  {
   "cell_type": "code",
   "execution_count": 17,
   "metadata": {},
   "outputs": [],
   "source": [
    "# Import packages\n",
    "import pandas as pd\n",
    "pd.set_option(\"display.max_columns\", 100)"
   ]
  },
  {
   "cell_type": "code",
   "execution_count": 26,
   "metadata": {
    "code_folding": [
     0
    ],
    "scrolled": true
   },
   "outputs": [],
   "source": [
    "# Read the Excel spreadsheet of jobs\n",
    "jobs_unfiltered = pd.read_excel(\"jobs.xlsx\")\n",
    "\n",
    "# Columns that are not important for the ranking process\n",
    "columns_to_drop = [\"Foundation school\",\n",
    "                   \"Linked Preference\",\n",
    "                   \"Programme Title\",\n",
    "                   \"Programme Description\",\n",
    "                   \"Programme Duration\",\n",
    "                   \"Places Available\", \n",
    "                   \"Pattern\",\n",
    "                   \"Placement 1: Year\",\n",
    "                   \"Placement 1: Employer/Trust\",\n",
    "                   \"Placement 1: Location\",\n",
    "                   \"Placement 1: Description\",\n",
    "                   \n",
    "                   \"Placement 2: Year\",\n",
    "                   \"Placement 2: Employer/Trust\",\n",
    "                   \"Placement 2: Location\",\n",
    "                   \"Placement 2: Description\",\n",
    "                   \n",
    "                   \"Placement 3: Year\",\n",
    "                   \"Placement 3: Employer/Trust\",\n",
    "                   \"Placement 3: Location\",\n",
    "                   \"Placement 3: Description\",\n",
    "                   \n",
    "                   \"Placement 4: Year\",\n",
    "                   \"Placement 4: Employer/Trust\",   \n",
    "                   \"Placement 4: Location\",\n",
    "                   \"Placement 4: Description\",\n",
    "                   \n",
    "                   \"Placement 5: Year\",\n",
    "                   \"Placement 5: Employer/Trust\",\n",
    "                   \"Placement 5: Location\",\n",
    "                   \"Placement 5: Description\",\n",
    "                   \n",
    "                   \"Placement 6: Year\",\n",
    "                   \"Placement 6: Employer/Trust\",\n",
    "                   \"Placement 6: Location\"]\n",
    "\n",
    "# Data frame with only the important columns\n",
    "jobs_filtered = jobs_unfiltered.drop(columns = columns_to_drop)"
   ]
  },
  {
   "cell_type": "code",
   "execution_count": 37,
   "metadata": {
    "code_folding": []
   },
   "outputs": [],
   "source": [
    "# A dictionary mapping preferences (these can be hospitals or specialties)\n",
    "#  to their value. These will be added up to get a total for each job. For\n",
    "#  example, gift specialties you like a positive value and those that you\n",
    "#  don't, a negative value. The same applies for locations\n",
    "jobs_dict = {\"General Surgery\": -1}\n",
    "\n",
    "# Create a new DataFrame to keep track of the points that each job has\n",
    "jobs_with_points = jobs_filtered.copy()\n",
    "\n",
    "# Iterate over each column and apply the values decided in jobs_dict\n",
    "for column in jobs_filtered.columns:\n",
    "    jobs_with_points[column] = jobs_filtered[column].map(jobs_dict)"
   ]
  },
  {
   "cell_type": "code",
   "execution_count": 46,
   "metadata": {},
   "outputs": [],
   "source": [
    "# Create a new column with the total number of points for each job\n",
    "jobs_filtered[\"total_points\"] = jobs_with_points.sum(axis=1)\n",
    "\n",
    "# Sorted jobs by the number of points they each have\n",
    "jobs_filtered_sorted = jobs_filtered.sort_values(by=[\"total_points\"])\n",
    "\n",
    "# Save with the sorted jobs list to an Excel file\n",
    "jobs_filtered_sorted.to_excel(\"jobs_sorted.xlsx\")"
   ]
  }
 ],
 "metadata": {
  "kernelspec": {
   "display_name": "Python 3",
   "language": "python",
   "name": "python3"
  },
  "language_info": {
   "codemirror_mode": {
    "name": "ipython",
    "version": 3
   },
   "file_extension": ".py",
   "mimetype": "text/x-python",
   "name": "python",
   "nbconvert_exporter": "python",
   "pygments_lexer": "ipython3",
   "version": "3.6.8"
  }
 },
 "nbformat": 4,
 "nbformat_minor": 2
}
